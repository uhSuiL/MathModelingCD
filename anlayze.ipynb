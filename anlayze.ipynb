{
 "cells": [
  {
   "cell_type": "code",
   "execution_count": 2,
   "outputs": [
    {
     "data": {
      "text/plain": "                   var  value\n0                y1[0]      0\n1                y1[1]      0\n2                y1[2]      0\n3                y1[3]      5\n4                y2[0]      0\n...                ...    ...\n18471   x[3,18,10,8,1]      0\n18472   x[3,18,10,9,0]      0\n18473   x[3,18,10,9,1]      0\n18474  x[3,18,10,10,0]      0\n18475  x[3,18,10,10,1]      0\n\n[18476 rows x 2 columns]",
      "text/html": "<div>\n<style scoped>\n    .dataframe tbody tr th:only-of-type {\n        vertical-align: middle;\n    }\n\n    .dataframe tbody tr th {\n        vertical-align: top;\n    }\n\n    .dataframe thead th {\n        text-align: right;\n    }\n</style>\n<table border=\"1\" class=\"dataframe\">\n  <thead>\n    <tr style=\"text-align: right;\">\n      <th></th>\n      <th>var</th>\n      <th>value</th>\n    </tr>\n  </thead>\n  <tbody>\n    <tr>\n      <th>0</th>\n      <td>y1[0]</td>\n      <td>0</td>\n    </tr>\n    <tr>\n      <th>1</th>\n      <td>y1[1]</td>\n      <td>0</td>\n    </tr>\n    <tr>\n      <th>2</th>\n      <td>y1[2]</td>\n      <td>0</td>\n    </tr>\n    <tr>\n      <th>3</th>\n      <td>y1[3]</td>\n      <td>5</td>\n    </tr>\n    <tr>\n      <th>4</th>\n      <td>y2[0]</td>\n      <td>0</td>\n    </tr>\n    <tr>\n      <th>...</th>\n      <td>...</td>\n      <td>...</td>\n    </tr>\n    <tr>\n      <th>18471</th>\n      <td>x[3,18,10,8,1]</td>\n      <td>0</td>\n    </tr>\n    <tr>\n      <th>18472</th>\n      <td>x[3,18,10,9,0]</td>\n      <td>0</td>\n    </tr>\n    <tr>\n      <th>18473</th>\n      <td>x[3,18,10,9,1]</td>\n      <td>0</td>\n    </tr>\n    <tr>\n      <th>18474</th>\n      <td>x[3,18,10,10,0]</td>\n      <td>0</td>\n    </tr>\n    <tr>\n      <th>18475</th>\n      <td>x[3,18,10,10,1]</td>\n      <td>0</td>\n    </tr>\n  </tbody>\n</table>\n<p>18476 rows × 2 columns</p>\n</div>"
     },
     "execution_count": 2,
     "metadata": {},
     "output_type": "execute_result"
    }
   ],
   "source": [
    "import pandas as pd\n",
    "from \n",
    "\n",
    "variables = pd.read_csv(r'D:\\Code\\Project\\MathModelingCD\\output\\prob2\\2023-12-26(09-54-43)\\model[2023-12-26(09-54-43)].sol', delimiter=' ', skiprows=1, names=['var', 'value'])\n",
    "variables"
   ],
   "metadata": {
    "collapsed": false,
    "ExecuteTime": {
     "end_time": "2023-12-27T05:48:49.986383800Z",
     "start_time": "2023-12-27T05:48:49.948421800Z"
    }
   },
   "id": "b31a959f1f108b26"
  },
  {
   "cell_type": "code",
   "execution_count": 4,
   "outputs": [
    {
     "data": {
      "text/plain": "                  var  value\n3               y1[3]      5\n5               y2[1]      3\n16             z[0,8]    148\n19            z[0,11]     50\n20            z[0,12]     12\n...               ...    ...\n17978  x[3,16,10,4,0]    544\n18340   x[3,18,4,9,0]   1979\n18341   x[3,18,4,9,1]    792\n18453  x[3,18,9,10,1]    786\n18462  x[3,18,10,4,0]   2112\n\n[67 rows x 2 columns]",
      "text/html": "<div>\n<style scoped>\n    .dataframe tbody tr th:only-of-type {\n        vertical-align: middle;\n    }\n\n    .dataframe tbody tr th {\n        vertical-align: top;\n    }\n\n    .dataframe thead th {\n        text-align: right;\n    }\n</style>\n<table border=\"1\" class=\"dataframe\">\n  <thead>\n    <tr style=\"text-align: right;\">\n      <th></th>\n      <th>var</th>\n      <th>value</th>\n    </tr>\n  </thead>\n  <tbody>\n    <tr>\n      <th>3</th>\n      <td>y1[3]</td>\n      <td>5</td>\n    </tr>\n    <tr>\n      <th>5</th>\n      <td>y2[1]</td>\n      <td>3</td>\n    </tr>\n    <tr>\n      <th>16</th>\n      <td>z[0,8]</td>\n      <td>148</td>\n    </tr>\n    <tr>\n      <th>19</th>\n      <td>z[0,11]</td>\n      <td>50</td>\n    </tr>\n    <tr>\n      <th>20</th>\n      <td>z[0,12]</td>\n      <td>12</td>\n    </tr>\n    <tr>\n      <th>...</th>\n      <td>...</td>\n      <td>...</td>\n    </tr>\n    <tr>\n      <th>17978</th>\n      <td>x[3,16,10,4,0]</td>\n      <td>544</td>\n    </tr>\n    <tr>\n      <th>18340</th>\n      <td>x[3,18,4,9,0]</td>\n      <td>1979</td>\n    </tr>\n    <tr>\n      <th>18341</th>\n      <td>x[3,18,4,9,1]</td>\n      <td>792</td>\n    </tr>\n    <tr>\n      <th>18453</th>\n      <td>x[3,18,9,10,1]</td>\n      <td>786</td>\n    </tr>\n    <tr>\n      <th>18462</th>\n      <td>x[3,18,10,4,0]</td>\n      <td>2112</td>\n    </tr>\n  </tbody>\n</table>\n<p>67 rows × 2 columns</p>\n</div>"
     },
     "execution_count": 4,
     "metadata": {},
     "output_type": "execute_result"
    }
   ],
   "source": [
    "non_zero_vars = variables[variables['value'] != 0]\n",
    "non_zero_vars"
   ],
   "metadata": {
    "collapsed": false,
    "ExecuteTime": {
     "end_time": "2023-12-27T05:49:52.406365200Z",
     "start_time": "2023-12-27T05:49:52.378248Z"
    }
   },
   "id": "1d0cc03c93e7852f"
  },
  {
   "cell_type": "code",
   "execution_count": 5,
   "outputs": [],
   "source": [
    "non_zero_vars.to_csv('./output/prob2/non_zero_vars.csv', index=False)"
   ],
   "metadata": {
    "collapsed": false,
    "ExecuteTime": {
     "end_time": "2023-12-27T05:51:05.194702300Z",
     "start_time": "2023-12-27T05:51:05.177080100Z"
    }
   },
   "id": "7ce737314cecdfed"
  }
 ],
 "metadata": {
  "kernelspec": {
   "display_name": "Python 3",
   "language": "python",
   "name": "python3"
  },
  "language_info": {
   "codemirror_mode": {
    "name": "ipython",
    "version": 2
   },
   "file_extension": ".py",
   "mimetype": "text/x-python",
   "name": "python",
   "nbconvert_exporter": "python",
   "pygments_lexer": "ipython2",
   "version": "2.7.6"
  }
 },
 "nbformat": 4,
 "nbformat_minor": 5
}
